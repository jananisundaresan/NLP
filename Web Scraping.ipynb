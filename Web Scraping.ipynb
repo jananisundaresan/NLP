{
 "cells": [
  {
   "cell_type": "code",
   "execution_count": 6,
   "metadata": {},
   "outputs": [],
   "source": [
    "from bs4 import BeautifulSoup as bs\n",
    "import requests"
   ]
  },
  {
   "cell_type": "code",
   "execution_count": 7,
   "metadata": {},
   "outputs": [
    {
     "name": "stdout",
     "output_type": "stream",
     "text": [
      "The top 100 users with maximum followers are:\n",
      "['@katyperry', '@BarackObama', '@justinbieber', '@rihanna', '@taylorswift13', '@ladygaga', '@TheEllenShow', '@Cristiano', '@YouTube', '@jtimberlake', '@ArianaGrande', '@KimKardashian', '@realDonaldTrump', '@selenagomez', '@britneyspears', '@Twitter', '@cnnbrk', '@shakira', '@jimmyfallon', '@BillGates', '@narendramodi', '@JLo', '@nytimes', '@neymarjr', '@BrunoMars', '@KingJames', '@Oprah', '@MileyCyrus', '@CNN', '@NiallOfficial', '@BBCBreaking', '@Drake', '@iamsrk', '@instagram', '@SrBachchan', '@BeingSalmanKhan', '@SportsCenter', '@KevinHart4real', '@LilTunechi', '@espn', '@wizkhalifa', '@Harry_Styles', '@Louis_Tomlinson', '@LiamPayne', '@Pink', '@realmadrid', '@onedirection', '@NASA', '@aliciakeys', '@akshaykumar', '@chrisbrown', '@KAKA', '@kanyewest', '@FCBarcelona', '@EmmaWatson', '@imVkohli', '@sachin_rt', '@PMOIndia', '@ConanOBrien', '@zaynmalik', '@Adele', '@NBA', '@KendallJenner', '@ActuallyNPH', '@khloekardashian', '@KylieJenner', '@pitbull', '@danieltosh', '@deepikapadukone', '@POTUS', '@elonmusk', '@iHrithik', '@BBCWorld', '@aamir_khan', '@priyankachopra', '@NFL', '@HillaryClinton', '@kourtneykardash', '@andresiniesta8', '@MesutOzil1088', '@coldplay', '@TheEconomist', '@ChampionsLeague', '@NatGeo', '@Eminem', '@AvrilLavigne', '@davidguetta', '@ShawnMendes', '@arrahman', '@Google', '@MariahCarey', '@blakeshelton', '@MohamadAlarefe', '@NICKIMINAJ', '@ricky_martin', '@Reuters', '@AlejandroSanz', '@edsheeran', '@3gerardpique', '@DalaiLama']\n"
     ]
    }
   ],
   "source": [
    "url = \"https://friendorfollow.com/twitter/most-followers/\"\n",
    "response=requests.get(url)\n",
    "soup=bs(response.text,\"lxml\")\n",
    "user=[]\n",
    "for i in range(1,101):\n",
    "    tweets = soup.findAll('li',{\"class\":'row-'+str(i)+' ver'})\n",
    "    for tweet in tweets:\n",
    "        usern=(tweet.find('p',{\"class\":'mail'}).text.strip())      \n",
    "        user.append(usern)\n",
    "       \n",
    "print(\"The top 100 users with maximum followers are:\")\n",
    "print(user)"
   ]
  },
  {
   "cell_type": "code",
   "execution_count": 8,
   "metadata": {},
   "outputs": [],
   "source": [
    "import re\n",
    "user_list=[]\n",
    "def extract_user(handle_name):\n",
    "    \n",
    "    name = re.sub('@','', handle_name)\n",
    "    return name\n",
    "        \n",
    "# Apply the function to the Length column and take a look at both columns\n",
    "for i in user:\n",
    "    a=(extract_user(i))\n",
    "    user_list.append(a)\n"
   ]
  },
  {
   "cell_type": "code",
   "execution_count": 9,
   "metadata": {},
   "outputs": [],
   "source": [
    "import tweepy\n",
    "from tweepy import OAuthHandler\n",
    "from tweepy import API\n",
    "from tweepy import Stream"
   ]
  },
  {
   "cell_type": "code",
   "execution_count": 11,
   "metadata": {},
   "outputs": [],
   "source": [
    "\n",
    "# Consumer key authentication\n",
    "auth = OAuthHandler(consumer_key, consumer_secret)\n"
   ]
  },
  {
   "cell_type": "code",
   "execution_count": 12,
   "metadata": {},
   "outputs": [],
   "source": [
    "\n",
    "# Access key authentication\n",
    "auth.set_access_token(access_token, access_token_secret)\n",
    "\n",
    "# Set up the API with the authentication handler\n",
    "api = API(auth)"
   ]
  },
  {
   "cell_type": "code",
   "execution_count": 14,
   "metadata": {},
   "outputs": [],
   "source": [
    "import requests\n",
    "from bs4 import BeautifulSoup\n",
    "import pandas as pd\n",
    "t1=[]\n",
    "t2=[]\n",
    "t3=[]\n",
    "t4=[]\n",
    "t5=[]\n",
    "t6=[]\n",
    "t7=[]\n",
    "handle=user_list\n",
    "for i in handle:\n",
    "    url = \"https://twitter.com/\"+i\n",
    "    response = requests.get(url)\n",
    "    soup = BeautifulSoup(response.text,\"lxml\")\n",
    "    tweets = soup.findAll('li',{\"class\":'js-stream-item'})\n",
    "    for tweet in tweets:\n",
    "        if tweet.find('p',{\"class\":'tweet-text'}):\n",
    "            tweet_user = tweet.find('span',{\"class\":'username'}).text.strip()\n",
    "            tweet_text = tweet.find('p',{\"class\":'tweet-text'}).text.encode('utf8').strip()\n",
    "            replies = tweet.find('span',{\"class\":\"ProfileTweet-actionCount\"}).text.strip()\n",
    "            retweets = tweet.find('span', {\"class\" : \"ProfileTweet-action--retweet\"}).text.strip()\n",
    "            follow_box = soup.find('li',{'class':'ProfileNav-item ProfileNav-item--followers'})\n",
    "            followers = follow_box.find('a').find('span',{'class':'ProfileNav-value'})\n",
    "            likes=tweet.find('span', {\"class\" : \"ProfileTweet-action--favorite\"}).text.strip()\n",
    "            if tweet.find('li',{\"class\":'ProfileNav-item ProfileNav-item--following'}):\n",
    "                following_box = soup.find('li',{'class':'ProfileNav-item ProfileNav-item--following'})\n",
    "                following = following_box.find('a').find('span',{'class':'ProfileNav-value'})\n",
    "           \n",
    "            \n",
    "                      \n",
    "            #span class=\"ProfileTweet-actionCountForAria\"\n",
    "            if(tweet_user==\"@\"+i):\n",
    "                t1.append(tweet_user)\n",
    "                t2.append(tweet_text)\n",
    "                t3.append(replies)\n",
    "                t4.append(retweets)\n",
    "                t5.append(followers.get('data-count'))\n",
    "                t6.append(likes)\n",
    "                if tweet.find('li',{\"class\":'ProfileNav-item ProfileNav-item--following'}):\n",
    "                    t7.append(following.get('data-count'))\n",
    "                else:\n",
    "                    t7.append(0)\n",
    "            else:\n",
    "                continue\n",
    "\n"
   ]
  },
  {
   "cell_type": "code",
   "execution_count": 15,
   "metadata": {},
   "outputs": [
    {
     "data": {
      "text/html": [
       "<div>\n",
       "<style scoped>\n",
       "    .dataframe tbody tr th:only-of-type {\n",
       "        vertical-align: middle;\n",
       "    }\n",
       "\n",
       "    .dataframe tbody tr th {\n",
       "        vertical-align: top;\n",
       "    }\n",
       "\n",
       "    .dataframe thead th {\n",
       "        text-align: right;\n",
       "    }\n",
       "</style>\n",
       "<table border=\"1\" class=\"dataframe\">\n",
       "  <thead>\n",
       "    <tr style=\"text-align: right;\">\n",
       "      <th></th>\n",
       "      <th>Tweet_user</th>\n",
       "      <th>tweet_text</th>\n",
       "      <th>replies</th>\n",
       "      <th>retweets</th>\n",
       "      <th>followers</th>\n",
       "      <th>likes</th>\n",
       "      <th>following</th>\n",
       "    </tr>\n",
       "  </thead>\n",
       "  <tbody>\n",
       "    <tr>\n",
       "      <th>0</th>\n",
       "      <td>@katyperry</td>\n",
       "      <td>b'That\\xe2\\x80\\x99s the 3rd straight Sunday in...</td>\n",
       "      <td>342 replies .</td>\n",
       "      <td>364 retweets</td>\n",
       "      <td>107034706</td>\n",
       "      <td>3,858 likes</td>\n",
       "      <td>0</td>\n",
       "    </tr>\n",
       "    <tr>\n",
       "      <th>1</th>\n",
       "      <td>@katyperry</td>\n",
       "      <td>b'One foot in front of the other, #LaurenEngle...</td>\n",
       "      <td>102 replies .</td>\n",
       "      <td>230 retweets</td>\n",
       "      <td>107034706</td>\n",
       "      <td>2,238 likes</td>\n",
       "      <td>0</td>\n",
       "    </tr>\n",
       "    <tr>\n",
       "      <th>2</th>\n",
       "      <td>@katyperry</td>\n",
       "      <td>b'I love pirates too  #americanidol'</td>\n",
       "      <td>238 replies .</td>\n",
       "      <td>271 retweets</td>\n",
       "      <td>107034706</td>\n",
       "      <td>3,274 likes</td>\n",
       "      <td>0</td>\n",
       "    </tr>\n",
       "    <tr>\n",
       "      <th>3</th>\n",
       "      <td>@katyperry</td>\n",
       "      <td>b'I mean I wasn\\xe2\\x80\\x99t lyin...#AmericanI...</td>\n",
       "      <td>150 replies .</td>\n",
       "      <td>212 retweets</td>\n",
       "      <td>107034706</td>\n",
       "      <td>1,793 likes</td>\n",
       "      <td>0</td>\n",
       "    </tr>\n",
       "    <tr>\n",
       "      <th>4</th>\n",
       "      <td>@katyperry</td>\n",
       "      <td>b'#worlddidyouseethat #americanidol'</td>\n",
       "      <td>117 replies .</td>\n",
       "      <td>168 retweets</td>\n",
       "      <td>107034706</td>\n",
       "      <td>1,496 likes</td>\n",
       "      <td>0</td>\n",
       "    </tr>\n",
       "  </tbody>\n",
       "</table>\n",
       "</div>"
      ],
      "text/plain": [
       "   Tweet_user                                         tweet_text  \\\n",
       "0  @katyperry  b'That\\xe2\\x80\\x99s the 3rd straight Sunday in...   \n",
       "1  @katyperry  b'One foot in front of the other, #LaurenEngle...   \n",
       "2  @katyperry               b'I love pirates too  #americanidol'   \n",
       "3  @katyperry  b'I mean I wasn\\xe2\\x80\\x99t lyin...#AmericanI...   \n",
       "4  @katyperry               b'#worlddidyouseethat #americanidol'   \n",
       "\n",
       "         replies      retweets  followers        likes  following  \n",
       "0  342 replies .  364 retweets  107034706  3,858 likes          0  \n",
       "1  102 replies .  230 retweets  107034706  2,238 likes          0  \n",
       "2  238 replies .  271 retweets  107034706  3,274 likes          0  \n",
       "3  150 replies .  212 retweets  107034706  1,793 likes          0  \n",
       "4  117 replies .  168 retweets  107034706  1,496 likes          0  "
      ]
     },
     "execution_count": 15,
     "metadata": {},
     "output_type": "execute_result"
    }
   ],
   "source": [
    "df=pd.DataFrame({\"Tweet_user\":t1,\n",
    "                 \"tweet_text\":t2,\n",
    "                 \"replies\":t3,\n",
    "                 \"retweets\":t4,\n",
    "                 \"followers\":t5,\n",
    "                 \"likes\":t6,\n",
    "                 \"following\":t7\n",
    "                 })\n",
    "df.head()"
   ]
  },
  {
   "cell_type": "code",
   "execution_count": 16,
   "metadata": {},
   "outputs": [
    {
     "data": {
      "text/html": [
       "<div>\n",
       "<style scoped>\n",
       "    .dataframe tbody tr th:only-of-type {\n",
       "        vertical-align: middle;\n",
       "    }\n",
       "\n",
       "    .dataframe tbody tr th {\n",
       "        vertical-align: top;\n",
       "    }\n",
       "\n",
       "    .dataframe thead th {\n",
       "        text-align: right;\n",
       "    }\n",
       "</style>\n",
       "<table border=\"1\" class=\"dataframe\">\n",
       "  <thead>\n",
       "    <tr style=\"text-align: right;\">\n",
       "      <th></th>\n",
       "      <th>Tweet_user</th>\n",
       "      <th>replies</th>\n",
       "      <th>retweets</th>\n",
       "      <th>followers</th>\n",
       "      <th>likes</th>\n",
       "    </tr>\n",
       "  </thead>\n",
       "  <tbody>\n",
       "    <tr>\n",
       "      <th>0</th>\n",
       "      <td>@katyperry</td>\n",
       "      <td>342</td>\n",
       "      <td>364</td>\n",
       "      <td>107034706</td>\n",
       "      <td>3858</td>\n",
       "    </tr>\n",
       "    <tr>\n",
       "      <th>1</th>\n",
       "      <td>@katyperry</td>\n",
       "      <td>102</td>\n",
       "      <td>230</td>\n",
       "      <td>107034706</td>\n",
       "      <td>2238</td>\n",
       "    </tr>\n",
       "    <tr>\n",
       "      <th>2</th>\n",
       "      <td>@katyperry</td>\n",
       "      <td>238</td>\n",
       "      <td>271</td>\n",
       "      <td>107034706</td>\n",
       "      <td>3274</td>\n",
       "    </tr>\n",
       "    <tr>\n",
       "      <th>3</th>\n",
       "      <td>@katyperry</td>\n",
       "      <td>150</td>\n",
       "      <td>212</td>\n",
       "      <td>107034706</td>\n",
       "      <td>1793</td>\n",
       "    </tr>\n",
       "    <tr>\n",
       "      <th>4</th>\n",
       "      <td>@katyperry</td>\n",
       "      <td>117</td>\n",
       "      <td>168</td>\n",
       "      <td>107034706</td>\n",
       "      <td>1496</td>\n",
       "    </tr>\n",
       "  </tbody>\n",
       "</table>\n",
       "</div>"
      ],
      "text/plain": [
       "   Tweet_user replies retweets  followers likes\n",
       "0  @katyperry     342      364  107034706  3858\n",
       "1  @katyperry     102      230  107034706  2238\n",
       "2  @katyperry     238      271  107034706  3274\n",
       "3  @katyperry     150      212  107034706  1793\n",
       "4  @katyperry     117      168  107034706  1496"
      ]
     },
     "execution_count": 16,
     "metadata": {},
     "output_type": "execute_result"
    }
   ],
   "source": [
    "import re\n",
    "def clean(data):\n",
    "    newdata=re.sub('[^0-9]','',data)\n",
    "    return newdata\n",
    "\n",
    "df['replies']=df['replies'].apply(lambda row:clean(row))\n",
    "df['retweets']=df['retweets'].apply(lambda row:clean(row))\n",
    "df['likes']=df['likes'].apply(lambda row:clean(row))\n",
    "\n",
    "df.head()\n",
    "df1=df.drop(['tweet_text','following'],axis=1)\n",
    "df1.head()"
   ]
  },
  {
   "cell_type": "code",
   "execution_count": 17,
   "metadata": {},
   "outputs": [
    {
     "data": {
      "text/html": [
       "<div>\n",
       "<style scoped>\n",
       "    .dataframe tbody tr th:only-of-type {\n",
       "        vertical-align: middle;\n",
       "    }\n",
       "\n",
       "    .dataframe tbody tr th {\n",
       "        vertical-align: top;\n",
       "    }\n",
       "\n",
       "    .dataframe thead th {\n",
       "        text-align: right;\n",
       "    }\n",
       "</style>\n",
       "<table border=\"1\" class=\"dataframe\">\n",
       "  <thead>\n",
       "    <tr style=\"text-align: right;\">\n",
       "      <th></th>\n",
       "      <th>replies</th>\n",
       "      <th>retweets</th>\n",
       "      <th>followers</th>\n",
       "      <th>likes</th>\n",
       "    </tr>\n",
       "    <tr>\n",
       "      <th>Tweet_user</th>\n",
       "      <th></th>\n",
       "      <th></th>\n",
       "      <th></th>\n",
       "      <th></th>\n",
       "    </tr>\n",
       "  </thead>\n",
       "  <tbody>\n",
       "    <tr>\n",
       "      <th>@3gerardpique</th>\n",
       "      <td>9819075071328335816552644937182172844572661524</td>\n",
       "      <td>2302020014521022919440133601513241040769653372...</td>\n",
       "      <td>1911498219114982191149821911498219114982191149...</td>\n",
       "      <td>4062110185278833236241072897871411322549182471...</td>\n",
       "    </tr>\n",
       "    <tr>\n",
       "      <th>@ActuallyNPH</th>\n",
       "      <td>413988108475031421193146732577456043491843664</td>\n",
       "      <td>2671787227838361908156451132573716162171052016...</td>\n",
       "      <td>2707394127073941270739412707394127073941270739...</td>\n",
       "      <td>1872131014093037485316933102024632763161216995...</td>\n",
       "    </tr>\n",
       "    <tr>\n",
       "      <th>@Adele</th>\n",
       "      <td>8091221114075751156713591715699107174215771851...</td>\n",
       "      <td>3452675991084435266913413593764846773895402991...</td>\n",
       "      <td>2784804027848040278480402784804027848040278480...</td>\n",
       "      <td>2086260561722293143016678112454105772583391053...</td>\n",
       "    </tr>\n",
       "    <tr>\n",
       "      <th>@AlejandroSanz</th>\n",
       "      <td>9466701742524109432975164530179253494405255210...</td>\n",
       "      <td>2133127862492610276508754591661308012077313758...</td>\n",
       "      <td>1948949719489497194894971948949719489497194894...</td>\n",
       "      <td>8050778722333541419014363388133739351278553852...</td>\n",
       "    </tr>\n",
       "    <tr>\n",
       "      <th>@ArianaGrande</th>\n",
       "      <td>2595277015512133377437291321224311771461233642...</td>\n",
       "      <td>1476714141335510552109352092231043850280758796...</td>\n",
       "      <td>6146234361462343614623436146234361462343614623...</td>\n",
       "      <td>1058351139874930237246124701187962398644640439...</td>\n",
       "    </tr>\n",
       "  </tbody>\n",
       "</table>\n",
       "</div>"
      ],
      "text/plain": [
       "                                                          replies  \\\n",
       "Tweet_user                                                          \n",
       "@3gerardpique      9819075071328335816552644937182172844572661524   \n",
       "@ActuallyNPH        413988108475031421193146732577456043491843664   \n",
       "@Adele          8091221114075751156713591715699107174215771851...   \n",
       "@AlejandroSanz  9466701742524109432975164530179253494405255210...   \n",
       "@ArianaGrande   2595277015512133377437291321224311771461233642...   \n",
       "\n",
       "                                                         retweets  \\\n",
       "Tweet_user                                                          \n",
       "@3gerardpique   2302020014521022919440133601513241040769653372...   \n",
       "@ActuallyNPH    2671787227838361908156451132573716162171052016...   \n",
       "@Adele          3452675991084435266913413593764846773895402991...   \n",
       "@AlejandroSanz  2133127862492610276508754591661308012077313758...   \n",
       "@ArianaGrande   1476714141335510552109352092231043850280758796...   \n",
       "\n",
       "                                                        followers  \\\n",
       "Tweet_user                                                          \n",
       "@3gerardpique   1911498219114982191149821911498219114982191149...   \n",
       "@ActuallyNPH    2707394127073941270739412707394127073941270739...   \n",
       "@Adele          2784804027848040278480402784804027848040278480...   \n",
       "@AlejandroSanz  1948949719489497194894971948949719489497194894...   \n",
       "@ArianaGrande   6146234361462343614623436146234361462343614623...   \n",
       "\n",
       "                                                            likes  \n",
       "Tweet_user                                                         \n",
       "@3gerardpique   4062110185278833236241072897871411322549182471...  \n",
       "@ActuallyNPH    1872131014093037485316933102024632763161216995...  \n",
       "@Adele          2086260561722293143016678112454105772583391053...  \n",
       "@AlejandroSanz  8050778722333541419014363388133739351278553852...  \n",
       "@ArianaGrande   1058351139874930237246124701187962398644640439...  "
      ]
     },
     "execution_count": 17,
     "metadata": {},
     "output_type": "execute_result"
    }
   ],
   "source": [
    "df2=df1.groupby(['Tweet_user']).sum(axis=1)\n",
    "df2.head()"
   ]
  },
  {
   "cell_type": "code",
   "execution_count": 18,
   "metadata": {},
   "outputs": [
    {
     "data": {
      "text/plain": [
       "Index(['replies_log', 'retweets_log', 'likes_log', 'followers_log'], dtype='object')"
      ]
     },
     "execution_count": 18,
     "metadata": {},
     "output_type": "execute_result"
    }
   ],
   "source": [
    "import numpy as np\n",
    "df2['replies_new']=(df2['replies']).astype(float)\n",
    "df2['retweets_new']=(df2['retweets']).astype(float)\n",
    "df2['likes_new']=(df2['likes']).astype(float)\n",
    "df2['followers_new']=(df2['followers']).astype(float)\n",
    "df2['replies_log']=np.log(df2['replies_new'])\n",
    "df2['retweets_log']=np.log(df2['retweets_new'])\n",
    "df2['likes_log']=np.log(df2['likes_new'])\n",
    "df2['followers_log']=np.log(df2['followers_new']).astype(float)\n",
    "df3=df2[['replies_log','retweets_log','likes_log','followers_log']]\n",
    "df3.columns"
   ]
  },
  {
   "cell_type": "code",
   "execution_count": 21,
   "metadata": {},
   "outputs": [
    {
     "name": "stderr",
     "output_type": "stream",
     "text": [
      "C:\\Users\\Janani\\Anaconda3\\envs\\py35\\lib\\site-packages\\ipykernel_launcher.py:3: SettingWithCopyWarning: \n",
      "A value is trying to be set on a copy of a slice from a DataFrame.\n",
      "Try using .loc[row_indexer,col_indexer] = value instead\n",
      "\n",
      "See the caveats in the documentation: http://pandas.pydata.org/pandas-docs/stable/indexing.html#indexing-view-versus-copy\n",
      "  This is separate from the ipykernel package so we can avoid doing imports until\n"
     ]
    },
    {
     "data": {
      "text/plain": [
       "<seaborn.axisgrid.FacetGrid at 0x1c3b5f409b0>"
      ]
     },
     "execution_count": 21,
     "metadata": {},
     "output_type": "execute_result"
    },
    {
     "data": {
      "image/png": "[encoded data removed]",
      "text/plain": [
       "<Figure size 360x360 with 1 Axes>"
      ]
     },
     "metadata": {},
     "output_type": "display_data"
    }
   ],
   "source": [
    "import seaborn as sns\n",
    "import matplotlib.pyplot as plt\n",
    "df3['user']=df3.index\n",
    "sns.set_style('whitegrid')#display grid \n",
    "#default - sns.set()\n",
    "\n",
    "sns.lmplot(data=df3,\n",
    "            x=('followers_log'),\n",
    "            y='retweets_log',\n",
    "           #hue='user'\n",
    "          )\n"
   ]
  },
  {
   "cell_type": "code",
   "execution_count": 20,
   "metadata": {},
   "outputs": [
    {
     "data": {
      "text/plain": [
       "<seaborn.axisgrid.FacetGrid at 0x1c3b5989780>"
      ]
     },
     "execution_count": 20,
     "metadata": {},
     "output_type": "execute_result"
    },
    {
     "data": {
      "image/png": "[encoded data removed]",
      "text/plain": [
       "<Figure size 360x360 with 1 Axes>"
      ]
     },
     "metadata": {
      "needs_background": "light"
     },
     "output_type": "display_data"
    },
    {
     "data": {
      "image/png": "[encoded data removed]",
      "text/plain": [
       "<Figure size 360x360 with 1 Axes>"
      ]
     },
     "metadata": {
      "needs_background": "light"
     },
     "output_type": "display_data"
    }
   ],
   "source": [
    "sns.lmplot(data=df3,\n",
    "            x=('likes_log'),\n",
    "            y='retweets_log'\n",
    "           #hue='user'\n",
    "          )\n",
    "sns.lmplot(data=df3,\n",
    "            x=('replies_log'),\n",
    "            y='retweets_log'\n",
    "           #hue='user'\n",
    "          )"
   ]
  }
 ],
 "metadata": {
  "kernelspec": {
   "display_name": "Python 3",
   "language": "python",
   "name": "python3"
  },
  "language_info": {
   "codemirror_mode": {
    "name": "ipython",
    "version": 3
   },
   "file_extension": ".py",
   "mimetype": "text/x-python",
   "name": "python",
   "nbconvert_exporter": "python",
   "pygments_lexer": "ipython3",
   "version": "3.6.6"
  }
 },
 "nbformat": 4,
 "nbformat_minor": 2
}
