{
 "cells": [
  {
   "cell_type": "code",
   "execution_count": 1,
   "metadata": {},
   "outputs": [],
   "source": [
    "from bs4 import BeautifulSoup as bs\n",
    "import requests"
   ]
  },
  {
   "cell_type": "code",
   "execution_count": 73,
   "metadata": {},
   "outputs": [
    {
     "name": "stdout",
     "output_type": "stream",
     "text": [
      "The top 100 users with maximum followers are:\n",
      "['@katyperry', '@BarackObama', '@justinbieber', '@rihanna', '@taylorswift13', '@ladygaga', '@TheEllenShow', '@Cristiano', '@YouTube', '@jtimberlake', '@ArianaGrande', '@KimKardashian', '@realDonaldTrump', '@selenagomez', '@britneyspears', '@Twitter', '@cnnbrk', '@shakira', '@jimmyfallon', '@BillGates', '@narendramodi', '@JLo', '@nytimes', '@neymarjr', '@BrunoMars', '@KingJames', '@Oprah', '@MileyCyrus', '@CNN', '@NiallOfficial', '@BBCBreaking', '@Drake', '@iamsrk', '@instagram', '@SrBachchan', '@BeingSalmanKhan', '@SportsCenter', '@KevinHart4real', '@LilTunechi', '@espn', '@wizkhalifa', '@Harry_Styles', '@Louis_Tomlinson', '@LiamPayne', '@Pink', '@realmadrid', '@onedirection', '@NASA', '@aliciakeys', '@akshaykumar', '@chrisbrown', '@KAKA', '@kanyewest', '@FCBarcelona', '@EmmaWatson', '@imVkohli', '@sachin_rt', '@PMOIndia', '@ConanOBrien', '@zaynmalik', '@Adele', '@NBA', '@KendallJenner', '@ActuallyNPH', '@khloekardashian', '@KylieJenner', '@pitbull', '@danieltosh', '@deepikapadukone', '@POTUS', '@elonmusk', '@iHrithik', '@BBCWorld', '@aamir_khan', '@priyankachopra', '@NFL', '@HillaryClinton', '@kourtneykardash', '@andresiniesta8', '@MesutOzil1088', '@coldplay', '@TheEconomist', '@ChampionsLeague', '@NatGeo', '@Eminem', '@AvrilLavigne', '@davidguetta', '@ShawnMendes', '@arrahman', '@Google', '@MariahCarey', '@blakeshelton', '@MohamadAlarefe', '@NICKIMINAJ', '@ricky_martin', '@Reuters', '@AlejandroSanz', '@edsheeran', '@3gerardpique', '@DalaiLama']\n"
     ]
    }
   ],
   "source": [
    "url = \"https://friendorfollow.com/twitter/most-followers/\"\n",
    "response=requests.get(url)\n",
    "soup=bs(response.text,\"lxml\")\n",
    "user=[]\n",
    "for i in range(1,101):\n",
    "    tweets = soup.findAll('li',{\"class\":'row-'+str(i)+' ver'})\n",
    "    for tweet in tweets:\n",
    "        usern=(tweet.find('p',{\"class\":'mail'}).text.strip())      \n",
    "        user.append(usern)\n",
    "       \n",
    "print(\"The top 100 users with maximum followers are:\")\n",
    "print(user)"
   ]
  },
  {
   "cell_type": "code",
   "execution_count": 3,
   "metadata": {},
   "outputs": [],
   "source": [
    "import re\n",
    "user_list=[]\n",
    "def extract_user(handle_name):\n",
    "    \n",
    "    name = re.sub('@','', handle_name)\n",
    "    return name\n",
    "        \n",
    "# Apply the function to the Length column and take a look at both columns\n",
    "for i in user:\n",
    "    a=(extract_user(i))\n",
    "    user_list.append(a)\n"
   ]
  },
  {
   "cell_type": "code",
   "execution_count": 4,
   "metadata": {},
   "outputs": [],
   "source": [
    "import tweepy\n",
    "from tweepy import OAuthHandler\n",
    "from tweepy import API\n",
    "from tweepy import Stream"
   ]
  },
  {
   "cell_type": "code",
   "execution_count": 5,
   "metadata": {},
   "outputs": [],
   "source": [
    "#Authentication Steps\n",
    
    "# Consumer key authentication\n",
    "auth = OAuthHandler(consumer_key, consumer_secret)\n"
   ]
  },
  {
   "cell_type": "code",
   "execution_count": 6,
   "metadata": {},
   "outputs": [],
   "source": [
    
    "# Access key authentication\n",
    "auth.set_access_token(access_token, access_token_secret)\n",
    "\n",
    "# Set up the API with the authentication handler\n",
    "api = API(auth)"
   ]
  },
  {
   "cell_type": "code",
   "execution_count": 22,
   "metadata": {},
   "outputs": [
    {
     "name": "stdout",
     "output_type": "stream",
     "text": [
      "<class 'pandas.core.frame.DataFrame'>\n",
      "RangeIndex: 1695 entries, 0 to 1694\n",
      "Data columns (total 7 columns):\n",
      "Tweet_user    1695 non-null object\n",
      "tweet_text    1695 non-null object\n",
      "replies       1695 non-null object\n",
      "retweets      1695 non-null object\n",
      "followers     1695 non-null object\n",
      "likes         1695 non-null object\n",
      "foolowing     1695 non-null int64\n",
      "dtypes: int64(1), object(6)\n",
      "memory usage: 92.8+ KB\n"
     ]
    }
   ],
   "source": [
    "import requests\n",
    "from bs4 import BeautifulSoup\n",
    "import pandas as pd\n",
    "t1=[]\n",
    "t2=[]\n",
    "t3=[]\n",
    "t4=[]\n",
    "t5=[]\n",
    "t6=[]\n",
    "t7=[]\n",
    "handle=user_list\n",
    "for i in handle:\n",
    "    url = \"https://twitter.com/\"+i\n",
    "    response = requests.get(url)\n",
    "    soup = BeautifulSoup(response.text,\"lxml\")\n",
    "    tweets = soup.findAll('li',{\"class\":'js-stream-item'})\n",
    "    for tweet in tweets:\n",
    "        if tweet.find('p',{\"class\":'tweet-text'}):\n",
    "            tweet_user = tweet.find('span',{\"class\":'username'}).text.strip()\n",
    "            tweet_text = tweet.find('p',{\"class\":'tweet-text'}).text.encode('utf8').strip()\n",
    "            replies = tweet.find('span',{\"class\":\"ProfileTweet-actionCount\"}).text.strip()\n",
    "            retweets = tweet.find('span', {\"class\" : \"ProfileTweet-action--retweet\"}).text.strip()\n",
    "            follow_box = soup.find('li',{'class':'ProfileNav-item ProfileNav-item--followers'})\n",
    "            followers = follow_box.find('a').find('span',{'class':'ProfileNav-value'})\n",
    "            likes=tweet.find('span', {\"class\" : \"ProfileTweet-action--favorite\"}).text.strip()\n",
    "            if tweet.find('li',{\"class\":'ProfileNav-item ProfileNav-item--following'}):\n",
    "                following_box = soup.find('li',{'class':'ProfileNav-item ProfileNav-item--following'})\n",
    "                following = following_box.find('a').find('span',{'class':'ProfileNav-value'})\n",
    "           \n",
    "            \n",
    "                      \n",
    "            #span class=\"ProfileTweet-actionCountForAria\"\n",
    "            if(tweet_user==\"@\"+i):\n",
    "                t1.append(tweet_user)\n",
    "                t2.append(tweet_text)\n",
    "                t3.append(replies)\n",
    "                t4.append(retweets)\n",
    "                t5.append(followers.get('data-count'))\n",
    "                t6.append(likes)\n",
    "                if tweet.find('li',{\"class\":'ProfileNav-item ProfileNav-item--following'}):\n",
    "                    t7.append(following.get('data-count'))\n",
    "                else:\n",
    "                    t7.append(0)\n",
    "            #print(tweet_user)\n",
    "            #print(tweet_text)\n",
    "            #print(replies)\n",
    "            #print(retweets)\n",
    "        else:\n",
    "            continue\n",
    "\n"
   ]
  },
  {
   "cell_type": "code",
   "execution_count": 56,
   "metadata": {},
   "outputs": [
    {
     "data": {
      "text/html": [
       "<div>\n",
       "<style scoped>\n",
       "    .dataframe tbody tr th:only-of-type {\n",
       "        vertical-align: middle;\n",
       "    }\n",
       "\n",
       "    .dataframe tbody tr th {\n",
       "        vertical-align: top;\n",
       "    }\n",
       "\n",
       "    .dataframe thead th {\n",
       "        text-align: right;\n",
       "    }\n",
       "</style>\n",
       "<table border=\"1\" class=\"dataframe\">\n",
       "  <thead>\n",
       "    <tr style=\"text-align: right;\">\n",
       "      <th></th>\n",
       "      <th>Tweet_user</th>\n",
       "      <th>tweet_text</th>\n",
       "      <th>replies</th>\n",
       "      <th>retweets</th>\n",
       "      <th>followers</th>\n",
       "      <th>likes</th>\n",
       "      <th>following</th>\n",
       "    </tr>\n",
       "  </thead>\n",
       "  <tbody>\n",
       "    <tr>\n",
       "      <th>0</th>\n",
       "      <td>@katyperry</td>\n",
       "      <td>b'That\\xe2\\x80\\x99s the 3rd straight Sunday in...</td>\n",
       "      <td>327 replies .</td>\n",
       "      <td>306 retweets</td>\n",
       "      <td>107034530</td>\n",
       "      <td>3,231 likes</td>\n",
       "      <td>0</td>\n",
       "    </tr>\n",
       "    <tr>\n",
       "      <th>1</th>\n",
       "      <td>@katyperry</td>\n",
       "      <td>b'One foot in front of the other, #LaurenEngle...</td>\n",
       "      <td>100 replies .</td>\n",
       "      <td>196 retweets</td>\n",
       "      <td>107034530</td>\n",
       "      <td>1,900 likes</td>\n",
       "      <td>0</td>\n",
       "    </tr>\n",
       "    <tr>\n",
       "      <th>2</th>\n",
       "      <td>@katyperry</td>\n",
       "      <td>b'I love pirates too  #americanidol'</td>\n",
       "      <td>234 replies .</td>\n",
       "      <td>238 retweets</td>\n",
       "      <td>107034530</td>\n",
       "      <td>2,798 likes</td>\n",
       "      <td>0</td>\n",
       "    </tr>\n",
       "    <tr>\n",
       "      <th>3</th>\n",
       "      <td>@katyperry</td>\n",
       "      <td>b'I mean I wasn\\xe2\\x80\\x99t lyin...#AmericanI...</td>\n",
       "      <td>146 replies .</td>\n",
       "      <td>181 retweets</td>\n",
       "      <td>107034530</td>\n",
       "      <td>1,538 likes</td>\n",
       "      <td>0</td>\n",
       "    </tr>\n",
       "    <tr>\n",
       "      <th>4</th>\n",
       "      <td>@katyperry</td>\n",
       "      <td>b'#worlddidyouseethat #americanidol'</td>\n",
       "      <td>118 replies .</td>\n",
       "      <td>141 retweets</td>\n",
       "      <td>107034530</td>\n",
       "      <td>1,304 likes</td>\n",
       "      <td>0</td>\n",
       "    </tr>\n",
       "  </tbody>\n",
       "</table>\n",
       "</div>"
      ],
      "text/plain": [
       "   Tweet_user                                         tweet_text  \\\n",
       "0  @katyperry  b'That\\xe2\\x80\\x99s the 3rd straight Sunday in...   \n",
       "1  @katyperry  b'One foot in front of the other, #LaurenEngle...   \n",
       "2  @katyperry               b'I love pirates too  #americanidol'   \n",
       "3  @katyperry  b'I mean I wasn\\xe2\\x80\\x99t lyin...#AmericanI...   \n",
       "4  @katyperry               b'#worlddidyouseethat #americanidol'   \n",
       "\n",
       "         replies      retweets  followers        likes  following  \n",
       "0  327 replies .  306 retweets  107034530  3,231 likes          0  \n",
       "1  100 replies .  196 retweets  107034530  1,900 likes          0  \n",
       "2  234 replies .  238 retweets  107034530  2,798 likes          0  \n",
       "3  146 replies .  181 retweets  107034530  1,538 likes          0  \n",
       "4  118 replies .  141 retweets  107034530  1,304 likes          0  "
      ]
     },
     "execution_count": 56,
     "metadata": {},
     "output_type": "execute_result"
    }
   ],
   "source": [
    "df=pd.DataFrame({\"Tweet_user\":t1,\n",
    "                 \"tweet_text\":t2,\n",
    "                 \"replies\":t3,\n",
    "                 \"retweets\":t4,\n",
    "                 \"followers\":t5,\n",
    "                 \"likes\":t6,\n",
    "                 \"following\":t7\n",
    "                 })\n",
    "df.head()"
   ]
  },
  {
   "cell_type": "code",
   "execution_count": 57,
   "metadata": {},
   "outputs": [
    {
     "data": {
      "text/html": [
       "<div>\n",
       "<style scoped>\n",
       "    .dataframe tbody tr th:only-of-type {\n",
       "        vertical-align: middle;\n",
       "    }\n",
       "\n",
       "    .dataframe tbody tr th {\n",
       "        vertical-align: top;\n",
       "    }\n",
       "\n",
       "    .dataframe thead th {\n",
       "        text-align: right;\n",
       "    }\n",
       "</style>\n",
       "<table border=\"1\" class=\"dataframe\">\n",
       "  <thead>\n",
       "    <tr style=\"text-align: right;\">\n",
       "      <th></th>\n",
       "      <th>Tweet_user</th>\n",
       "      <th>replies</th>\n",
       "      <th>retweets</th>\n",
       "      <th>followers</th>\n",
       "      <th>likes</th>\n",
       "    </tr>\n",
       "  </thead>\n",
       "  <tbody>\n",
       "    <tr>\n",
       "      <th>0</th>\n",
       "      <td>@katyperry</td>\n",
       "      <td>327</td>\n",
       "      <td>306</td>\n",
       "      <td>107034530</td>\n",
       "      <td>3231</td>\n",
       "    </tr>\n",
       "    <tr>\n",
       "      <th>1</th>\n",
       "      <td>@katyperry</td>\n",
       "      <td>100</td>\n",
       "      <td>196</td>\n",
       "      <td>107034530</td>\n",
       "      <td>1900</td>\n",
       "    </tr>\n",
       "    <tr>\n",
       "      <th>2</th>\n",
       "      <td>@katyperry</td>\n",
       "      <td>234</td>\n",
       "      <td>238</td>\n",
       "      <td>107034530</td>\n",
       "      <td>2798</td>\n",
       "    </tr>\n",
       "    <tr>\n",
       "      <th>3</th>\n",
       "      <td>@katyperry</td>\n",
       "      <td>146</td>\n",
       "      <td>181</td>\n",
       "      <td>107034530</td>\n",
       "      <td>1538</td>\n",
       "    </tr>\n",
       "    <tr>\n",
       "      <th>4</th>\n",
       "      <td>@katyperry</td>\n",
       "      <td>118</td>\n",
       "      <td>141</td>\n",
       "      <td>107034530</td>\n",
       "      <td>1304</td>\n",
       "    </tr>\n",
       "  </tbody>\n",
       "</table>\n",
       "</div>"
      ],
      "text/plain": [
       "   Tweet_user replies retweets  followers likes\n",
       "0  @katyperry     327      306  107034530  3231\n",
       "1  @katyperry     100      196  107034530  1900\n",
       "2  @katyperry     234      238  107034530  2798\n",
       "3  @katyperry     146      181  107034530  1538\n",
       "4  @katyperry     118      141  107034530  1304"
      ]
     },
     "execution_count": 57,
     "metadata": {},
     "output_type": "execute_result"
    }
   ],
   "source": [
    "import re\n",
    "def clean(data):\n",
    "    newdata=re.sub('[^0-9]','',data)\n",
    "    return newdata\n",
    "\n",
    "df['replies']=df['replies'].apply(lambda row:clean(row))\n",
    "df['retweets']=df['retweets'].apply(lambda row:clean(row))\n",
    "df['likes']=df['likes'].apply(lambda row:clean(row))\n",
    "\n",
    "df.head()\n",
    "df1=df.drop(['tweet_text','following'],axis=1)\n",
    "df1.head()"
   ]
  },
  {
   "cell_type": "code",
   "execution_count": 74,
   "metadata": {},
   "outputs": [
    {
     "data": {
      "text/html": [
       "<div>\n",
       "<style scoped>\n",
       "    .dataframe tbody tr th:only-of-type {\n",
       "        vertical-align: middle;\n",
       "    }\n",
       "\n",
       "    .dataframe tbody tr th {\n",
       "        vertical-align: top;\n",
       "    }\n",
       "\n",
       "    .dataframe thead th {\n",
       "        text-align: right;\n",
       "    }\n",
       "</style>\n",
       "<table border=\"1\" class=\"dataframe\">\n",
       "  <thead>\n",
       "    <tr style=\"text-align: right;\">\n",
       "      <th></th>\n",
       "      <th>replies</th>\n",
       "      <th>retweets</th>\n",
       "      <th>followers</th>\n",
       "      <th>likes</th>\n",
       "    </tr>\n",
       "    <tr>\n",
       "      <th>Tweet_user</th>\n",
       "      <th></th>\n",
       "      <th></th>\n",
       "      <th></th>\n",
       "      <th></th>\n",
       "    </tr>\n",
       "  </thead>\n",
       "  <tbody>\n",
       "    <tr>\n",
       "      <th>@3gerardpique</th>\n",
       "      <td>9819075071328335816552644937182172844572661524</td>\n",
       "      <td>2302019114521022919440133591513241040769653372...</td>\n",
       "      <td>1911452419114524191145241911452419114524191145...</td>\n",
       "      <td>4059110140278823236441072897921411222550182461...</td>\n",
       "    </tr>\n",
       "    <tr>\n",
       "      <th>@ActuallyNPH</th>\n",
       "      <td>413988108475031421193146732577456043491843664</td>\n",
       "      <td>2581767227838361908156551132573716162171052016...</td>\n",
       "      <td>2707395427073954270739542707395427073954270739...</td>\n",
       "      <td>1842129814083037485416933102024631763161216995...</td>\n",
       "    </tr>\n",
       "    <tr>\n",
       "      <th>@Adele</th>\n",
       "      <td>8091221114075751156713591715699107174215771851...</td>\n",
       "      <td>3446675691084435266913413593764846773895402991...</td>\n",
       "      <td>2784820227848202278482022784820227848202278482...</td>\n",
       "      <td>2084860553722303142616677112444105772581391063...</td>\n",
       "    </tr>\n",
       "    <tr>\n",
       "      <th>@AlejandroSanz</th>\n",
       "      <td>9416701742524109432975164530179253494405255210...</td>\n",
       "      <td>2118127162392510266498744591661308012077313758...</td>\n",
       "      <td>1948944319489443194894431948944319489443194894...</td>\n",
       "      <td>8012775822293540418514323382133539331278353842...</td>\n",
       "    </tr>\n",
       "    <tr>\n",
       "      <th>@ArianaGrande</th>\n",
       "      <td>2584276115472131376837281320224211761459233542...</td>\n",
       "      <td>1470314073333510513108852088830993846280658716...</td>\n",
       "      <td>6146031361460313614603136146031361460313614603...</td>\n",
       "      <td>1053261134144901736962124164187584397494627739...</td>\n",
       "    </tr>\n",
       "  </tbody>\n",
       "</table>\n",
       "</div>"
      ],
      "text/plain": [
       "                                                          replies  \\\n",
       "Tweet_user                                                          \n",
       "@3gerardpique      9819075071328335816552644937182172844572661524   \n",
       "@ActuallyNPH        413988108475031421193146732577456043491843664   \n",
       "@Adele          8091221114075751156713591715699107174215771851...   \n",
       "@AlejandroSanz  9416701742524109432975164530179253494405255210...   \n",
       "@ArianaGrande   2584276115472131376837281320224211761459233542...   \n",
       "\n",
       "                                                         retweets  \\\n",
       "Tweet_user                                                          \n",
       "@3gerardpique   2302019114521022919440133591513241040769653372...   \n",
       "@ActuallyNPH    2581767227838361908156551132573716162171052016...   \n",
       "@Adele          3446675691084435266913413593764846773895402991...   \n",
       "@AlejandroSanz  2118127162392510266498744591661308012077313758...   \n",
       "@ArianaGrande   1470314073333510513108852088830993846280658716...   \n",
       "\n",
       "                                                        followers  \\\n",
       "Tweet_user                                                          \n",
       "@3gerardpique   1911452419114524191145241911452419114524191145...   \n",
       "@ActuallyNPH    2707395427073954270739542707395427073954270739...   \n",
       "@Adele          2784820227848202278482022784820227848202278482...   \n",
       "@AlejandroSanz  1948944319489443194894431948944319489443194894...   \n",
       "@ArianaGrande   6146031361460313614603136146031361460313614603...   \n",
       "\n",
       "                                                            likes  \n",
       "Tweet_user                                                         \n",
       "@3gerardpique   4059110140278823236441072897921411222550182461...  \n",
       "@ActuallyNPH    1842129814083037485416933102024631763161216995...  \n",
       "@Adele          2084860553722303142616677112444105772581391063...  \n",
       "@AlejandroSanz  8012775822293540418514323382133539331278353842...  \n",
       "@ArianaGrande   1053261134144901736962124164187584397494627739...  "
      ]
     },
     "execution_count": 74,
     "metadata": {},
     "output_type": "execute_result"
    }
   ],
   "source": [
    "df2=df1.groupby(['Tweet_user']).sum(axis=1)\n",
    "df2.head()"
   ]
  },
  {
   "cell_type": "code",
   "execution_count": 66,
   "metadata": {},
   "outputs": [
    {
     "data": {
      "text/plain": [
       "Index(['replies_log', 'retweets_log', 'likes_log', 'followers_log'], dtype='object')"
      ]
     },
     "execution_count": 66,
     "metadata": {},
     "output_type": "execute_result"
    }
   ],
   "source": [
    "import numpy as np\n",
    "df2['replies_new']=(df2['replies']).astype(float)\n",
    "df2['retweets_new']=(df2['retweets']).astype(float)\n",
    "df2['likes_new']=(df2['likes']).astype(float)\n",
    "df2['followers_new']=(df2['followers']).astype(float)\n",
    "df2['replies_log']=np.log(df2['replies_new'])\n",
    "df2['retweets_log']=np.log(df2['retweets_new'])\n",
    "df2['likes_log']=np.log(df2['likes_new'])\n",
    "df2['followers_log']=np.log(df2['followers_new']).astype(float)\n",
    "df3=df2[['replies_log','retweets_log','likes_log','followers_log']]\n",
    "df3.columns"
   ]
  },
  {
   "cell_type": "code",
   "execution_count": 72,
   "metadata": {},
   "outputs": [
    {
     "name": "stderr",
     "output_type": "stream",
     "text": [
      "C:\\Users\\Janani\\Anaconda3\\envs\\py35\\lib\\site-packages\\ipykernel_launcher.py:3: SettingWithCopyWarning: \n",
      "A value is trying to be set on a copy of a slice from a DataFrame.\n",
      "Try using .loc[row_indexer,col_indexer] = value instead\n",
      "\n",
      "See the caveats in the documentation: http://pandas.pydata.org/pandas-docs/stable/indexing.html#indexing-view-versus-copy\n",
      "  This is separate from the ipykernel package so we can avoid doing imports until\n"
     ]
    },
    {
     "data": {
      "text/plain": [
       "<seaborn.axisgrid.FacetGrid at 0x1b37df38f60>"
      ]
     },
     "execution_count": 72,
     "metadata": {},
     "output_type": "execute_result"
    },
    {
     "data": {
      "image/png": "[encoded data removed]",
      "text/plain": [
       "<Figure size 360x360 with 1 Axes>"
      ]
     },
     "metadata": {},
     "output_type": "display_data"
    }
   ],
   "source": [
    "import seaborn as sns\n",
    "import matplotlib.pyplot as plt\n",
    "df3['user']=df3.index\n",
    "sns.set_style('whitegrid')#display grid \n",
    "#default - sns.set()\n",
    "\n",
    "sns.lmplot(data=df3,\n",
    "            x=('followers_log'),\n",
    "            y='retweets_log',\n",
    "           #hue='user'\n",
    "          )\n"
   ]
  },
  {
   "cell_type": "code",
   "execution_count": 70,
   "metadata": {},
   "outputs": [
    {
     "data": {
      "text/plain": [
       "<seaborn.axisgrid.FacetGrid at 0x1b390bf2a90>"
      ]
     },
     "execution_count": 70,
     "metadata": {},
     "output_type": "execute_result"
    },
    {
     "data": {
      "image/png": "[encoded data removed]",
      "text/plain": [
       "<Figure size 360x360 with 1 Axes>"
      ]
     },
     "metadata": {},
     "output_type": "display_data"
    },
    {
     "data": {
      "image/png": "[encoded data removed]",
      "text/plain": [
       "<Figure size 360x360 with 1 Axes>"
      ]
     },
     "metadata": {},
     "output_type": "display_data"
    }
   ],
   "source": [
    "sns.lmplot(data=df3,\n",
    "            x=('likes_log'),\n",
    "            y='retweets_log'\n",
    "           #hue='user'\n",
    "          )\n",
    "sns.lmplot(data=df3,\n",
    "            x=('replies_log'),\n",
    "            y='retweets_log'\n",
    "           #hue='user'\n",
    "          )"
   ]
  }
 ],
 "metadata": {
  "kernelspec": {
   "display_name": "Python 3",
   "language": "python",
   "name": "python3"
  },
  "language_info": {
   "codemirror_mode": {
    "name": "ipython",
    "version": 3
   },
   "file_extension": ".py",
   "mimetype": "text/x-python",
   "name": "python",
   "nbconvert_exporter": "python",
   "pygments_lexer": "ipython3",
   "version": "3.6.6"
  }
 },
 "nbformat": 4,
 "nbformat_minor": 2
}
